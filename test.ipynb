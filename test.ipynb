{
 "cells": [
  {
   "cell_type": "code",
   "id": "initial_id",
   "metadata": {
    "collapsed": true,
    "ExecuteTime": {
     "end_time": "2025-02-18T05:38:47.934445Z",
     "start_time": "2025-02-18T05:38:47.260732Z"
    }
   },
   "source": [
    "import pandas as pd\n",
    "\n",
    "# Load the CSV file\n",
    "courses_df = pd.read_csv(\"test_data.csv\")\n",
    "\n",
    "# Print the column names to inspect them\n",
    "print(\"Column Names:\", courses_df.columns)\n"
   ],
   "outputs": [
    {
     "name": "stdout",
     "output_type": "stream",
     "text": [
      "Column Names: Index(['Unnamed: 0', 'course_title', 'course_organization',\n",
      "       'course_Certificate_type', 'course_rating', 'course_difficulty',\n",
      "       'course_students_enrolled', 'Prerequisites'],\n",
      "      dtype='object')\n"
     ]
    }
   ],
   "execution_count": 1
  },
  {
   "metadata": {
    "ExecuteTime": {
     "end_time": "2025-02-18T05:39:42.535872Z",
     "start_time": "2025-02-18T05:39:42.493909Z"
    }
   },
   "cell_type": "code",
   "source": [
    "import pandas as pd\n",
    "\n",
    "# Load the CSV file\n",
    "courses_df = pd.read_csv(\"edx.csv\")\n",
    "\n",
    "# Print the column names to inspect them\n",
    "print(\"Column Names:\", courses_df.columns)"
   ],
   "id": "28b92cde8458c17e",
   "outputs": [
    {
     "name": "stdout",
     "output_type": "stream",
     "text": [
      "Column Names: Index(['Name', 'University', 'Difficulty Level', 'Link', 'About',\n",
      "       'Course Description'],\n",
      "      dtype='object')\n"
     ]
    }
   ],
   "execution_count": 4
  }
 ],
 "metadata": {
  "kernelspec": {
   "display_name": "Python 3",
   "language": "python",
   "name": "python3"
  },
  "language_info": {
   "codemirror_mode": {
    "name": "ipython",
    "version": 2
   },
   "file_extension": ".py",
   "mimetype": "text/x-python",
   "name": "python",
   "nbconvert_exporter": "python",
   "pygments_lexer": "ipython2",
   "version": "2.7.6"
  }
 },
 "nbformat": 4,
 "nbformat_minor": 5
}
